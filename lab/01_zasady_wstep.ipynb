{
 "cells": [
  {
   "cell_type": "markdown",
   "metadata": {},
   "source": [
    "# Zasady zaliczenia ćwiczeń\n",
    "\n",
    "## Obecność\n",
    "\n",
    "- Obecność na ćwiczeniach jest obowiązkowa.\n",
    "  * Student ma prawo do maksymalnie trzech nieusprawiedliwionych nieobecności - przekroczenie tego limitu skutkuje otrzymaniem oceny NZAL z ćwiczeń i niedopuszczeniem do egzaminu.\n",
    "  * Osoby dołączające do zajęć w późniejszym terminie muszą liczyć się z faktem, że w ich przypadku dozwolona liczba nieusprawiedliwionych nieobecności na ćwiczeniach może zostać zmniejszona przez koordynatora przedmiotu.\n",
    "- W szczególnych wypadkach koordynator przedmiotu może zwiększyć limit nieusprawiedliwionych nieobecności na ćwiczeniach, jednakże dotyczy to tylko studentów, którzy z ćwiczeń otrzymali minimum ocenę dst.\n",
    "\n",
    "## Ocena z ćwiczeń\n",
    "\n",
    "Ocena z ćwiczeń będzie opierać się na cotygodniowych zadaniach domowych oraz dużym projekcie semestralnym.\n",
    "\n",
    "### Prace domowe\n",
    "W trakcie każdych zajęć studenci otrzymają do wypełnienia notebooka z ćwiczeniami. **Na początku semestru należy założyć prywatne repozytorium na GitHubie przeznaczone na rozwiązane notebooki oraz dać dostęp do repozytorium prowadzącemu ćwiczenia.** Każdy notebook będzie podlegał ocenie.\n",
    "\n",
    "Każdy notebook należy rozwiązać i wysłać prowadzącemu w przeciągu tygodnia, do godziny 23:59 w dniu poprzedzającym kolejne zajęcia, tzn:\n",
    "- Grupa środowa musi wysłać swoje rozwiązania do 23:59 we wtorek.\n",
    "- Grupa czwartkowa musi wysłać swoje rozwiązania do 23:59 w środę.\n",
    "\n",
    "- Każdy notebook będzie oceniany w przedziale 0-7 punktów. Jako że notebooków w semestrze będzie 10, za tę część ćwiczeń będzie można otrzymać maksymalnie 70 punktów. Jeżeli z powodu odwołania zajęć notebooków będzie mniej niż 10, punkty zostaną przeskalowne tak, żeby maksymalnie można było dostać 70.\n",
    "- Rozwiązania zadań muszą spełniać następujące kryteria:\n",
    "  - kod musi być czytelny i zwięzły (w razie wątpliwości proszę stosować się do standardu PEP 8),\n",
    "  - kod musi być przetestowany i poprawnie działać,\n",
    "  - jeśli do zadania dodane są asserty, kod musi je przechodzić,\n",
    "  - rozwiązanie musi zostać wysłane w terminie,\n",
    "  - na następnych zajęciach student może być poproszony o przedstawienie fragmentu lub całości rozwiązania i wytłumaczenie działania kodu.\n",
    "\n",
    "Osoby dołączające do zajęć w późniejszym terminie muszą liczyć się z faktem, iż nie mogą otrzymać punktów za zaległe zadania.\n",
    "\n",
    "### Projekt semestralny\n",
    "\n",
    "Do końca listopada podane zostaną potencjalne tematy projektu semestralnego. Będzie można również zaproponować własny temat, ale musi on zostać wcześniej zaakceptowany przez prowadzącego ćwiczenia.\n",
    "\n",
    "- Za projekt można otrzymać 30 punktów. Projekt będzie oceniany pod względem zgodności z tematem, pomysłowości oraz włożonej pracy.\n",
    "- Szczegóły dotyczące termin oddawania projektów zostaną podane razem z proponowanymi tematami projektów.\n",
    "- Do projektu należy dołączyć opis w formacie PDF, długości maksymalnie 2 stron, opisujący działanie projektu oraz sposób jego przetestowania.\n",
    "- Projekt należy obronić - zostaną na to przeznaczone jedne zajęcia, a także będzie można to zrobić w trakcie konsultacji.\n",
    "- Istnieje możliwość wykonywania projektu semestralnego w grupach dwuosobowych. Należy pamiętać, że wtedy wkład każdej osoby będzie oceniany osobno.\n",
    "\n",
    "Skala ocen z ćwiczeń\n",
    "* 0-49 pkt: 2\n",
    "* 50-59 pkt: 3\n",
    "* 60-69 pkt: 3,5\n",
    "* 70-79 pkt: 4\n",
    "* 80-89 pkt: 4,5\n",
    "* 90-100 pkt: 5\n",
    "\n",
    "## Zwolnienie z egzaminu\n",
    "W każdej grupie spośród studentów, __którzy otrzymali min. 50 punktów z prac domowych__ wybrane zostaną cztery osoby, które wykonały najlepsze projekty semestralne. Osoby te będą zwolnione z egzaminu i automatycznie otrzymają ocenę 5.0 z całego przedmiotu."
   ]
  },
  {
   "cell_type": "markdown",
   "metadata": {},
   "source": [
    "# Środowisko pracy\n",
    "\n",
    "Na zajęciach będziemy korzystać z języka Python w wersji 3.7 oraz zestawu konkretnych pakietów. Na własną odpowiedzialność można korzystać z innych wersji Pythona. Poprzednie wersje Pythona (w szczególności 2.x) są niezalecane!\n",
    "\n",
    "## Lokalnie\n",
    "\n",
    "1. Ściągnąć repozytorium przedmiotu: `git clone https://github.com/gmum/ml2019-20`  \n",
    "(Można również ściągnąć zipa repozytorium \"ręcznie\")\n",
    "\n",
    "\n",
    "2. Sciągnąć miniconde: https://conda.io/en/latest/miniconda.html (Niewymagane jeśli zainstalowana jest `Anaconda`)  \n",
    "Na windowsie: uruchomić `Anaconda Prompt`\n",
    "\n",
    "\n",
    "3. Stworzyć środowisko razem z wymaganymi paczkami:  \n",
    "`conda create --name ml19 python=3.7 numpy=1.16.5 scipy=1.3.1 matplotlib=3.1.1 scikit-learn=0.21.2 jupyter notebook`\n",
    "\n",
    "\n",
    "4. Aktywować środowisko:  \n",
    "Unix/MacOS: `conda activate ml19`  \n",
    "Windows: w `Anaconda Prompt`: `activate ml19`\n",
    "\n",
    "\n",
    "5. OPCJONALNIE: Doinstalować PyTorcha: https://pytorch.org/  \n",
    " * GPU: `conda install pytorch torchvision cudatoolkit=9.0 -c pytorch`\n",
    " * CPU only: `conda install pytorch torchvision cpuonly  -c pytorch`\n",
    "\n",
    "\n",
    "6. W folderze repo odpalić serwer jupytera: `jupyter notebook`\n",
    "\n",
    "\n",
    "7. Sprawdzić w przeglądarce czy wszystko działa\n",
    "\n",
    "### Test środowiska"
   ]
  },
  {
   "cell_type": "code",
   "execution_count": 1,
   "metadata": {},
   "outputs": [],
   "source": [
    "import matplotlib\n",
    "import numpy as np\n",
    "import scipy\n",
    "import sklearn\n",
    "#import torch  # uncomment if necessary"
   ]
  },
  {
   "cell_type": "markdown",
   "metadata": {},
   "source": [
    "## Collaboratory\n",
    "Dla osób bez laptopa.\n",
    "\n",
    "1. Wrzucić folder z repo na swojego Google Drive.\n",
    "\n",
    "2. Otworzyć ten plik i z dostępnych aplikacji wybrać `Collaboratory`\n",
    "\n",
    "3. Sprawdzić powyższą komórką czy wszystko działa."
   ]
  },
  {
   "cell_type": "markdown",
   "metadata": {},
   "source": [
    "# Wstęp do pakietów naukowych: NumPy\n",
    "\n",
    "Na początek polecam zaznajomić się z podstawami NumPy i trzymać na boku jako ściąga: http://cs231n.github.io/python-numpy-tutorial/#numpy\n",
    "\n",
    "Rada ogólna: nie bać się googlania i czytania dokumentacji."
   ]
  },
  {
   "cell_type": "markdown",
   "metadata": {},
   "source": [
    "### Zadanie 1.\n",
    "Używając funkcji [`np.random.normal`](https://docs.scipy.org/doc/numpy-1.15.0/reference/generated/numpy.random.normal.html) wylosować dwie macierze **różnych** rozmiarów, i następnie przenożyć je przez siebie macierzowo tak aby otrzymać macierz rozmiaru `9x6`."
   ]
  },
  {
   "cell_type": "code",
   "execution_count": 2,
   "metadata": {},
   "outputs": [],
   "source": [
    "A = np.random.normal(size=(9, 10))\n",
    "B = np.random.normal(size=(10, 6))\n",
    "\n",
    "C = np.matmul(A, B)\n",
    "\n",
    "assert A.shape != B.shape\n",
    "assert C.shape == (9,6)"
   ]
  },
  {
   "cell_type": "markdown",
   "metadata": {},
   "source": [
    "### Zadanie 2.\n",
    "\n",
    "Zaimplementować funkcje $\\sigma$, która przyjmuje macierz numpy $X$ (**uwaga**: nie mylić z `np.matrix`!) i zwraca macierz tego samego rozmiaru z wartościami fukncji:\n",
    "$$\\sigma(x) = \\frac{1}{1 + e^{-x}}$$\n",
    "odpowiednio dla każdego $x$.\n",
    "\n",
    "Hint: [`np.e`](https://docs.scipy.org/doc/numpy/reference/constants.html#numpy.e)"
   ]
  },
  {
   "cell_type": "code",
   "execution_count": 3,
   "metadata": {},
   "outputs": [],
   "source": [
    "def sigmoid(x: np.ndarray) -> np.ndarray:\n",
    "    return 1 / (1 + np.exp(-x))\n",
    "    \n",
    "    \n",
    "X = np.random.uniform(low=-10, high=10, size=(1000, 2000))\n",
    "\n",
    "assert sigmoid(X).max() <= 1.\n",
    "assert sigmoid(X).min() >= 0."
   ]
  },
  {
   "cell_type": "code",
   "execution_count": 4,
   "metadata": {},
   "outputs": [
    {
     "name": "stdout",
     "output_type": "stream",
     "text": [
      "38.3 ms ± 3.94 ms per loop (mean ± std. dev. of 7 runs, 10 loops each)\n"
     ]
    }
   ],
   "source": [
    "%%timeit n=10\n",
    "sigmoid(X)"
   ]
  },
  {
   "cell_type": "markdown",
   "metadata": {},
   "source": [
    "### Zadanie 3.\n",
    "Unstandaryzować wartości w macierzy $X$ per kolumna, tzn. dla każdej wartości $x$ w kolumnie wykonać:\n",
    "\n",
    "$$ f(x_{ij}) = \\frac{x_{ij} - \\mu_j}{\\sigma_j} $$\n",
    "\n",
    "gdzie $\\mu_j$ to średnia wartość kolumny $j$, a $\\sigma_j$ to odchylenie standardowe kolumny $j$."
   ]
  },
  {
   "cell_type": "code",
   "execution_count": 5,
   "metadata": {},
   "outputs": [],
   "source": [
    "X = np.random.uniform(low=-10, high=10, size=(100, 10))\n",
    "\n",
    "X_hat = (X - X.mean(axis=0)) / X.std(axis=0)\n",
    "\n",
    "assert np.allclose(X_hat.mean(), 0.)\n",
    "assert np.allclose(X_hat.std(), 1.)"
   ]
  },
  {
   "cell_type": "code",
   "execution_count": null,
   "metadata": {},
   "outputs": [],
   "source": []
  }
 ],
 "metadata": {
  "kernelspec": {
   "display_name": "Python 3",
   "language": "python",
   "name": "python3"
  },
  "language_info": {
   "codemirror_mode": {
    "name": "ipython",
    "version": 3
   },
   "file_extension": ".py",
   "mimetype": "text/x-python",
   "name": "python",
   "nbconvert_exporter": "python",
   "pygments_lexer": "ipython3",
   "version": "3.6.8"
  }
 },
 "nbformat": 4,
 "nbformat_minor": 2
}
