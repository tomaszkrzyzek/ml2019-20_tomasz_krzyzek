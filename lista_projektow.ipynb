{
 "cells": [
  {
   "cell_type": "markdown",
   "metadata": {},
   "source": [
    "# Lista Projektów - Uczenie Maszynowe 2019-20\n",
    "\n",
    "\n",
    "## Wstęp\n",
    "\n",
    "* Oprócz proponowanych poniżej temat można zgłaszać swój temat - do zatwierdzenia przez prowadzącego.\n",
    "* Projekty realizowane z członkami GMUM zaliczają się do własnych tematów - nie trzeba ich konsultować z prowadzącym.\n",
    "* Istnieje możliwość realizacji projektów w parach, przy czym projekt powinien być odpowiednio bardziej wymagający.\n",
    "* Temat projektu należy wybrać do 11.12.2019.\n",
    "* Wybrany temat należy wpisać w plik `README.md` swojego repozytorium do zadań domowych.\n",
    "* Kod projektu również powinien znaleźć się na Państwa repozytorium w osobnym folderze (dopuszczalne jako [submoduł](https://gist.github.com/gitaarik/8735255)).\n",
    "* Termin oddania projektu dopuszczający zwolnienie z egzaminu: **TBD** (prawdopodobnie tydzień przed egzaminem).\n",
    "* Ostateczny termin oddania projektu: **23.02.2020** (koniec sesji).\n"
   ]
  },
  {
   "cell_type": "markdown",
   "metadata": {},
   "source": [
    "## Research:\n",
    "* [Reproducibility Challenge @ NeurIPS 2019](https://reproducibility-challenge.github.io/neurips2019/)\n",
    "* Analiza problemu [*catastrophic forgetting*](https://arxiv.org/abs/1612.00796) dla prostych sieci konwolucyjnych i *fully connected*. \n",
    "\n",
    "\n",
    "## Obraz:\n",
    "* Stworzenie własnego “specjalistycznego” (bardzo ścisłe klasy do klasyfikacji, np. podobne gatunki ptaków) datasetu, prawdopodobnie scrapowanego z internetu. Fine-tuning jednego z wariantów VGG.\n",
    "* Porównanie modeli generatywnych GAN, VAE i WAE na datasecie [SVHN](http://ufldl.stanford.edu/housenumbers/) lub podobnych.\n",
    "* Algorytm do automatycznego wykrywania i wyceniania kart do gry Magic: The Gathering. Bonus dla dwóch osób: z aplikacją na telefon.\n",
    "\n",
    "## Tekst:\n",
    "* Model generatywny tekstu dla języka polskiego używający embeddingów [flair](https://github.com/zalandoresearch/flair/blob/master/resources/docs/embeddings/FLAIR_EMBEDDINGS.md).\n",
    "* Porównanie (prostych) modeli generatywnych uczonych na różnych polskich pisarzach, np. Mickiewicz, a Słowacki.\n",
    "\n",
    "## Dźwięk:\n",
    "* Shazam-like na ograniczonej bibliotece muzycznej.\n",
    "* Prosty model generatywny bazujący na (część) datasetu [MAESTRO](https://magenta.tensorflow.org/datasets/maestro).\n",
    "* Prosty “embedding” dla piosenek, dzięki któremu łatwo będzie wyszukiwać podobnie brzmiące utwory muzyczne.\n",
    "\n",
    "## Gry:\n",
    "* Wytrenowanie wybranego “trochę głębszego” modelu na wybranych 1-2 grach Atari.\n",
    "* Prosty algorytm z rodziny self-play dla gry typu Gomoku.\n",
    "\n",
    "## Inne:\n",
    "* Model generatywny kart do Magic: The Gathering na podstawie [MTGJSON](https://mtgjson.com/). Patrz: [roborosewater](https://twitter.com/roborosewater?lang=en).\n",
    "\n",
    "## Zastosowania Praktyczne:\n",
    "* Webserwis używający CycleGAN’a do automatycznej ingerencji w zdjęcia (np. “rozweselanie”)\n",
    "* Przeniesienie gotowego modelu do Object Detection na smartfona.\n"
   ]
  }
 ],
 "metadata": {
  "kernelspec": {
   "display_name": "Python 3",
   "language": "python",
   "name": "python3"
  },
  "language_info": {
   "codemirror_mode": {
    "name": "ipython",
    "version": 3
   },
   "file_extension": ".py",
   "mimetype": "text/x-python",
   "name": "python",
   "nbconvert_exporter": "python",
   "pygments_lexer": "ipython3",
   "version": "3.7.4"
  }
 },
 "nbformat": 4,
 "nbformat_minor": 2
}
